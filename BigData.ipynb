{
  "cells": [
    {
      "cell_type": "markdown",
      "metadata": {
        "id": "sN3VaDvFh7ru"
      },
      "source": [
        "#Loading All Essential Libraries:\n"
      ]
    },
    {
      "cell_type": "code",
      "execution_count": null,
      "metadata": {
        "colab": {
          "base_uri": "https://localhost:8080/"
        },
        "id": "kWiFYPFHDzuL",
        "outputId": "fe4a62df-0d4c-4961-d51f-ad0e613dae2b"
      },
      "outputs": [
        {
          "output_type": "stream",
          "name": "stdout",
          "text": [
            "sample_data\n"
          ]
        }
      ],
      "source": [
        "!ls"
      ]
    },
    {
      "cell_type": "code",
      "execution_count": 1,
      "metadata": {
        "colab": {
          "base_uri": "https://localhost:8080/"
        },
        "id": "40ZMzK1NEOxG",
        "outputId": "db36e386-b17b-4c7f-c956-c2d3c67c1a15"
      },
      "outputs": [
        {
          "output_type": "stream",
          "name": "stdout",
          "text": [
            "sample_data\n",
            "--2024-03-28 17:17:48--  https://downloads.apache.org/spark/spark-3.4.2/spark-3.4.2-bin-hadoop3.tgz\n",
            "Resolving downloads.apache.org (downloads.apache.org)... 135.181.214.104, 88.99.208.237, 2a01:4f8:10a:39da::2, ...\n",
            "Connecting to downloads.apache.org (downloads.apache.org)|135.181.214.104|:443... connected.\n",
            "HTTP request sent, awaiting response... 200 OK\n",
            "Length: 388664780 (371M) [application/x-gzip]\n",
            "Saving to: ‘spark-3.4.2-bin-hadoop3.tgz’\n",
            "\n",
            "spark-3.4.2-bin-had 100%[===================>] 370.66M  12.0MB/s    in 29s     \n",
            "\n",
            "2024-03-28 17:18:18 (12.9 MB/s) - ‘spark-3.4.2-bin-hadoop3.tgz’ saved [388664780/388664780]\n",
            "\n",
            "total 379576\n",
            "drwxr-xr-x  1 root root      4096 Mar 28 17:18 .\n",
            "drwxr-xr-x  1 root root      4096 Mar 28 17:15 ..\n",
            "drwxr-xr-x  1 root root      4096 Mar 26 13:28 sample_data\n",
            "drwxr-xr-x  4 root root      4096 Mar 26 13:27 .config\n",
            "-rw-r--r--  1 root root 388664780 Nov 25 07:49 spark-3.4.2-bin-hadoop3.tgz\n",
            "drwxr-xr-x 13 1000 1000      4096 Nov 25 07:48 spark-3.4.2-bin-hadoop3\n"
          ]
        }
      ],
      "source": [
        "#Clearing the existing session if any and installing java and spark\n",
        "\n",
        "!ls\n",
        "!rm -f spark-3.4.[01]-bin-hadoop3.tgz*\n",
        "!rm -rf spark-3.4.[01]-bin-hadoop3\n",
        "!apt-get install openjdk-8-jdk-headless -qq > /dev/null\n",
        "!wget https://downloads.apache.org/spark/spark-3.4.2/spark-3.4.2-bin-hadoop3.tgz\n",
        "!tar -xf spark-3.4.2-bin-hadoop3.tgz\n",
        "!ls -alt\n"
      ]
    },
    {
      "cell_type": "code",
      "execution_count": 2,
      "metadata": {
        "colab": {
          "base_uri": "https://localhost:8080/"
        },
        "id": "x7ep6be3O27B",
        "outputId": "1984090b-2ee9-4af5-ba95-293db0513e98"
      },
      "outputs": [
        {
          "output_type": "stream",
          "name": "stdout",
          "text": [
            "Collecting findspark\n",
            "  Downloading findspark-2.0.1-py2.py3-none-any.whl (4.4 kB)\n",
            "Installing collected packages: findspark\n",
            "Successfully installed findspark-2.0.1\n"
          ]
        }
      ],
      "source": [
        "# install findspark\n",
        "!pip3 install findspark\n"
      ]
    },
    {
      "cell_type": "code",
      "execution_count": 3,
      "metadata": {
        "id": "7ZguLonUE-js"
      },
      "outputs": [],
      "source": [
        "# init spark (ensure SPARK_HOME set to same version as we download earlier)\n",
        "import os\n",
        "os.environ[\"JAVA_HOME\"] = \"/usr/lib/jvm/java-8-openjdk-amd64\"\n",
        "os.environ[\"SPARK_HOME\"] = \"/content/spark-3.4.2-bin-hadoop3\"\n",
        "import findspark\n",
        "findspark.init()\n",
        "from pyspark import SparkConf, SparkContext\n",
        "#Initializing Spark with a custom app name Bikes_london, memory settings for driver & executors as 8 gigabites, and set the number of cores for executors as 2\n",
        "spark_conf = SparkConf().setMaster('local[*]').setAppName('Bikes_london') \\\n",
        "                         .set(\"spark.driver.memory\", \"8g\") \\\n",
        "                         .set(\"spark.executor.memory\", \"8g\") \\\n",
        "                         .set(\"spark.executor.cores\", \"2\")\n",
        "sc = SparkContext(conf=spark_conf)\n",
        "\n"
      ]
    },
    {
      "cell_type": "code",
      "execution_count": 4,
      "metadata": {
        "id": "sFo3GinDe92y"
      },
      "outputs": [],
      "source": [
        "\n",
        "from pyspark.sql import *\n",
        "from pyspark.sql.functions import *\n",
        "spark = SparkSession.builder.appName(\"Bikes_london\").getOrCreate()\n"
      ]
    },
    {
      "cell_type": "markdown",
      "metadata": {
        "id": "A2U_mOc3iK30"
      },
      "source": [
        "#Loading the Zip File:\n"
      ]
    },
    {
      "cell_type": "code",
      "execution_count": 5,
      "metadata": {
        "colab": {
          "base_uri": "https://localhost:8080/"
        },
        "id": "CHbddaLQUNwo",
        "outputId": "9730b387-5025-4cc1-847a-5ba6caafaded"
      },
      "outputs": [
        {
          "output_type": "stream",
          "name": "stdout",
          "text": [
            "--2024-03-28 17:18:42--  https://cycling.data.tfl.gov.uk/usage-stats/cyclehireusagestats-2014.zip\n",
            "Resolving cycling.data.tfl.gov.uk (cycling.data.tfl.gov.uk)... 104.16.212.132, 104.16.213.132\n",
            "Connecting to cycling.data.tfl.gov.uk (cycling.data.tfl.gov.uk)|104.16.212.132|:443... connected.\n",
            "HTTP request sent, awaiting response... 200 OK\n",
            "Length: 225215129 (215M) [application/zip]\n",
            "Saving to: ‘cyclehireusagestats-2014.zip’\n",
            "\n",
            "cyclehireusagestats 100%[===================>] 214.78M   271MB/s    in 0.8s    \n",
            "\n",
            "2024-03-28 17:18:43 (271 MB/s) - ‘cyclehireusagestats-2014.zip’ saved [225215129/225215129]\n",
            "\n",
            "Archive:  cyclehireusagestats-2014.zip\n",
            "  inflating: 1. Journey Data Extract 05Jan14-02Feb14.csv  \n",
            "  inflating: 10a. Journey Data Extract 14Sep14-27Sep14.csv  \n",
            "  inflating: 10b. Journey Data Extract 28Sep14-11Oct14.csv  \n",
            "  inflating: 11a. Journey Data Extract 12Oct14-08Nov14.csv  \n",
            "  inflating: 11b. Journey Data Extract 12Oct14-08Nov14.csv  \n",
            "  inflating: 12a. Journey Data Extract 09Nov14-06Dec14.csv  \n",
            "  inflating: 12b. Journey Data Extract 09Nov14-06Dec14.csv  \n",
            "  inflating: 13a. Journey Data Extract 07Dec14-21Dec14.csv  \n",
            "  inflating: 13b. Journey Data Extract 22Dec14-03Jan15.csv  \n",
            "  inflating: 14. Journey Data Extract 08Dec13-04Jan14.csv  \n",
            "  inflating: 2. Journey Data Extract 03Feb14-01Mar14.csv  \n",
            "  inflating: 3. Journey Data Extract 02Mar14-31Mar14.csv  \n",
            "  inflating: 4. Journey Data Extract 01Apr14-26Apr14.csv  \n",
            "  inflating: 5. Journey Data Extract 27Apr14-24May14.csv  \n",
            "  inflating: 6. Journey Data Extract 25May14-21Jun14.csv  \n",
            "  inflating: 7. Journey Data Extract 22Jun14-19Jul14.csv  \n",
            "  inflating: 8a Journey Data Extract 20Jul14-31Jul14.csv  \n",
            "  inflating: 8b Journey Data Extract 01Aug14-16Aug14.csv  \n",
            "  inflating: 9a Journey Data Extract 17Aug14-31Aug14.csv  \n",
            "  inflating: 9b Journey Data Extract 01Sep14-13Sep14.csv  \n"
          ]
        }
      ],
      "source": [
        "# get file for given year from TfL open data and unziping the file in the present directory\n",
        "!wget https://cycling.data.tfl.gov.uk/usage-stats/cyclehireusagestats-2014.zip\n",
        "!unzip cyclehireusagestats-2014.zip\n",
        "\n"
      ]
    },
    {
      "cell_type": "code",
      "execution_count": 6,
      "metadata": {
        "colab": {
          "base_uri": "https://localhost:8080/"
        },
        "id": "D4PQF7y2eMzY",
        "outputId": "c661ad21-dd33-489e-9ad7-b1b4228f341b"
      },
      "outputs": [
        {
          "output_type": "stream",
          "name": "stdout",
          "text": [
            "/content\n"
          ]
        }
      ],
      "source": [
        "!pwd"
      ]
    },
    {
      "cell_type": "code",
      "execution_count": 7,
      "metadata": {
        "id": "CmIQqnIFGKKl"
      },
      "outputs": [],
      "source": [
        "# Load CSV files into a Spark DataFrame:\n",
        "cyclehire =(spark.read.format(\"csv\")\n",
        "         .option(\"header\", \"true\")\n",
        "         .option(\"inferSchema\", \"true\")\n",
        "         .load(\"/content/*.csv\"))\n"
      ]
    },
    {
      "cell_type": "markdown",
      "metadata": {
        "id": "FmGkdxoziXcg"
      },
      "source": [
        "#Data Exploration and Data Cleaning:\n"
      ]
    },
    {
      "cell_type": "code",
      "execution_count": null,
      "metadata": {
        "colab": {
          "base_uri": "https://localhost:8080/"
        },
        "id": "reewcKSOmA1U",
        "outputId": "97a9b2c3-bc22-40c0-8e27-4017c2188819"
      },
      "outputs": [
        {
          "output_type": "stream",
          "name": "stdout",
          "text": [
            "+---------+--------+-------+----------------+-------------+--------------------+----------------+---------------+--------------------+\n",
            "|Rental Id|Duration|Bike Id|        End Date|EndStation Id|     EndStation Name|      Start Date|StartStation Id|   StartStation Name|\n",
            "+---------+--------+-------+----------------+-------------+--------------------+----------------+---------------+--------------------+\n",
            "| 34263367|    1080|   9076|24/06/2014 00:57|          695|Islington Green, ...|24/06/2014 00:39|            311|Foley Street, Fit...|\n",
            "| 34603487|     660|   6328|03/07/2014 11:51|          695|Islington Green, ...|03/07/2014 11:40|             22|Northington Stree...|\n",
            "| 34689078|     120|   2006|05/07/2014 15:09|          357|Howland Street, F...|05/07/2014 15:07|            311|Foley Street, Fit...|\n",
            "| 34724273|    1260|   7904|06/07/2014 16:35|          695|Islington Green, ...|06/07/2014 16:14|            311|Foley Street, Fit...|\n",
            "| 34956750|    1500|   8251|13/07/2014 00:41|           93|Cloudesley Road, ...|13/07/2014 00:16|            311|Foley Street, Fit...|\n",
            "| 34946549|    1380|   6997|12/07/2014 18:35|          430|South Parade, Che...|12/07/2014 18:12|            514|Portman Square, M...|\n",
            "| 35011368|    2820|   4193|14/07/2014 15:49|          573|Limerston Street,...|14/07/2014 15:02|             14|Belgrove Street ,...|\n",
            "| 35027649|     180|   9781|14/07/2014 19:50|          430|South Parade, Che...|14/07/2014 19:47|            216|Old Brompton Road...|\n",
            "| 35057973|     420|   5133|15/07/2014 17:17|          356|South Kensington ...|15/07/2014 17:10|            216|Old Brompton Road...|\n",
            "| 35086123|    1200|    190|16/07/2014 09:31|          290|Winsland Street, ...|16/07/2014 09:11|            430|South Parade, Che...|\n",
            "+---------+--------+-------+----------------+-------------+--------------------+----------------+---------------+--------------------+\n",
            "only showing top 10 rows\n",
            "\n"
          ]
        }
      ],
      "source": [
        "\n",
        "# Top 10 Rows:\n",
        "cyclehire.show(10)\n",
        "\n"
      ]
    },
    {
      "cell_type": "code",
      "execution_count": null,
      "metadata": {
        "colab": {
          "base_uri": "https://localhost:8080/"
        },
        "id": "NTWVsp8omRfc",
        "outputId": "8ec0dd2f-3a72-4377-d0e3-6936d0355265"
      },
      "outputs": [
        {
          "output_type": "execute_result",
          "data": {
            "text/plain": [
              "11481596"
            ]
          },
          "metadata": {},
          "execution_count": 10
        }
      ],
      "source": [
        "\n",
        "#Count of cyclehire Dataframe\n",
        "count = cyclehire.count()\n",
        "count"
      ]
    },
    {
      "cell_type": "code",
      "execution_count": 8,
      "metadata": {
        "colab": {
          "base_uri": "https://localhost:8080/"
        },
        "id": "qglDsWMwkIrL",
        "outputId": "26bdca9a-520f-4bec-d736-5fe078b06898"
      },
      "outputs": [
        {
          "output_type": "stream",
          "name": "stdout",
          "text": [
            "root\n",
            " |-- Rental Id: string (nullable = true)\n",
            " |-- Duration: string (nullable = true)\n",
            " |-- Bike Id: string (nullable = true)\n",
            " |-- End Date: string (nullable = true)\n",
            " |-- EndStation Id: string (nullable = true)\n",
            " |-- EndStation Name: string (nullable = true)\n",
            " |-- Start Date: string (nullable = true)\n",
            " |-- StartStation Id: string (nullable = true)\n",
            " |-- StartStation Name: string (nullable = true)\n",
            "\n"
          ]
        }
      ],
      "source": [
        "#datatypes of columns in cyclehire Dataframe\n",
        "cyclehire.printSchema()"
      ]
    },
    {
      "cell_type": "code",
      "source": [
        "{col:cyclehire.filter(cyclehire[col].isNull()).count() for col in cyclehire.columns}"
      ],
      "metadata": {
        "colab": {
          "base_uri": "https://localhost:8080/"
        },
        "id": "9OUpFgLiEne4",
        "outputId": "bc8d4891-a916-4127-f6d6-80a01e5312c3"
      },
      "execution_count": 9,
      "outputs": [
        {
          "output_type": "execute_result",
          "data": {
            "text/plain": [
              "{'Rental Id': 1239113,\n",
              " 'Duration': 1239113,\n",
              " 'Bike Id': 1239113,\n",
              " 'End Date': 1239113,\n",
              " 'EndStation Id': 1239245,\n",
              " 'EndStation Name': 1239245,\n",
              " 'Start Date': 1239113,\n",
              " 'StartStation Id': 1239113,\n",
              " 'StartStation Name': 1239113}"
            ]
          },
          "metadata": {},
          "execution_count": 9
        }
      ]
    },
    {
      "cell_type": "code",
      "execution_count": null,
      "metadata": {
        "id": "rokwf54RGbhY"
      },
      "outputs": [],
      "source": [
        "# Convert 'Duration' from string to integer\n",
        "cyclehire = cyclehire.withColumn(\"Duration\", col(\"Duration\").cast(\"integer\"))"
      ]
    },
    {
      "cell_type": "code",
      "execution_count": null,
      "metadata": {
        "colab": {
          "base_uri": "https://localhost:8080/"
        },
        "id": "g8yUkZ5HtvOV",
        "outputId": "ecb9ac46-eab2-4f77-a3e1-8b3391f9172a"
      },
      "outputs": [
        {
          "output_type": "stream",
          "name": "stdout",
          "text": [
            "+---------+--------+-------+----------------+-------------+--------------------+----------+---------------+--------------------+-----+\n",
            "|Rental Id|Duration|Bike Id|        End Date|EndStation Id|     EndStation Name|Start Date|StartStation Id|   StartStation Name|Month|\n",
            "+---------+--------+-------+----------------+-------------+--------------------+----------+---------------+--------------------+-----+\n",
            "| 34263367|    1080|   9076|24/06/2014 00:57|          695|Islington Green, ...|2014-06-24|            311|Foley Street, Fit...|    6|\n",
            "| 34603487|     660|   6328|03/07/2014 11:51|          695|Islington Green, ...|2014-07-03|             22|Northington Stree...|    7|\n",
            "| 34689078|     120|   2006|05/07/2014 15:09|          357|Howland Street, F...|2014-07-05|            311|Foley Street, Fit...|    7|\n",
            "| 34724273|    1260|   7904|06/07/2014 16:35|          695|Islington Green, ...|2014-07-06|            311|Foley Street, Fit...|    7|\n",
            "| 34956750|    1500|   8251|13/07/2014 00:41|           93|Cloudesley Road, ...|2014-07-13|            311|Foley Street, Fit...|    7|\n",
            "| 34946549|    1380|   6997|12/07/2014 18:35|          430|South Parade, Che...|2014-07-12|            514|Portman Square, M...|    7|\n",
            "| 35011368|    2820|   4193|14/07/2014 15:49|          573|Limerston Street,...|2014-07-14|             14|Belgrove Street ,...|    7|\n",
            "| 35027649|     180|   9781|14/07/2014 19:50|          430|South Parade, Che...|2014-07-14|            216|Old Brompton Road...|    7|\n",
            "| 35057973|     420|   5133|15/07/2014 17:17|          356|South Kensington ...|2014-07-15|            216|Old Brompton Road...|    7|\n",
            "| 35086123|    1200|    190|16/07/2014 09:31|          290|Winsland Street, ...|2014-07-16|            430|South Parade, Che...|    7|\n",
            "| 34868641|     960|   8620|10/07/2014 15:13|          345|Flood Street, Che...|2014-07-10|            405|Gloucester Road S...|    7|\n",
            "| 34934674|    1440|   8257|12/07/2014 15:25|          192|Wardour Street, Soho|2014-07-12|            430|South Parade, Che...|    7|\n",
            "| 35113372|     780|   5495|16/07/2014 19:44|          430|South Parade, Che...|2014-07-16|            290|Winsland Street, ...|    7|\n",
            "| 35114768|    1380|  11118|16/07/2014 20:29|           43|Crawford Street, ...|2014-07-16|            430|South Parade, Che...|    7|\n",
            "| 35161284|     300|   2825|17/07/2014 21:03|          430|South Parade, Che...|2014-07-17|            216|Old Brompton Road...|    7|\n",
            "| 35178200|     660|   2797|18/07/2014 11:49|          405|Gloucester Road S...|2014-07-18|            430|South Parade, Che...|    7|\n",
            "| 35182220|     240|   9760|18/07/2014 13:45|          430|South Parade, Che...|2014-07-18|            405|Gloucester Road S...|    7|\n",
            "| 35219861|     960|   5588|19/07/2014 13:45|          150|Holy Trinity Brom...|2014-07-19|            430|South Parade, Che...|    7|\n",
            "| 35224864|     660|  11255|19/07/2014 15:17|          747|Ormonde Gate, Che...|2014-07-19|            368|Harriet Street, K...|    7|\n",
            "| 34316757|     900|   2942|25/06/2014 11:40|          430|South Parade, Che...|2014-06-25|            638|Falcon Road, Clap...|    6|\n",
            "+---------+--------+-------+----------------+-------------+--------------------+----------+---------------+--------------------+-----+\n",
            "only showing top 20 rows\n",
            "\n"
          ]
        }
      ],
      "source": [
        "# Convert 'Start Date' from string to date format using to_Date\n",
        "cyclehire = cyclehire.withColumn(\"Start Date\", to_date(\"Start Date\", \"dd/MM/yyyy HH:mm\"))\n",
        "\n",
        "#Extracting Month from the 'Start Date'\n",
        "cyclehire = cyclehire.withColumn(\"Month\", month(\"Start Date\"))\n",
        "\n",
        "\n",
        "cyclehire.show()"
      ]
    },
    {
      "cell_type": "code",
      "execution_count": null,
      "metadata": {
        "colab": {
          "base_uri": "https://localhost:8080/"
        },
        "id": "BPck7qsu0xS1",
        "outputId": "edc76558-8dff-4ccd-b5b6-a5b67682e191"
      },
      "outputs": [
        {
          "output_type": "stream",
          "name": "stdout",
          "text": [
            "+-------+------------------+\n",
            "|summary|          Duration|\n",
            "+-------+------------------+\n",
            "|  count|          10242483|\n",
            "|   mean| 1466.081447242822|\n",
            "| stddev|12946.838147599005|\n",
            "|    min|             -3360|\n",
            "|    max|           2596560|\n",
            "+-------+------------------+\n",
            "\n"
          ]
        }
      ],
      "source": [
        "import matplotlib.pyplot as plt\n",
        "#Summary Stats for Duration\n",
        "cyclehire.describe(\"Duration\").show()"
      ]
    },
    {
      "cell_type": "code",
      "execution_count": null,
      "metadata": {
        "colab": {
          "base_uri": "https://localhost:8080/"
        },
        "id": "42PRAb7f57S0",
        "outputId": "f60d4067-5a62-458f-cbc9-6aa33edf2350"
      },
      "outputs": [
        {
          "output_type": "stream",
          "name": "stdout",
          "text": [
            "Number of null values in 'Duration': 1239113\n"
          ]
        }
      ],
      "source": [
        "#Null Count in the Duration column\n",
        "null_count_Duration = cyclehire.filter(col(\"Duration\").isNull()).count()\n",
        "print(\"Number of null values in 'Duration':\", null_count_Duration)"
      ]
    },
    {
      "cell_type": "code",
      "execution_count": null,
      "metadata": {
        "colab": {
          "base_uri": "https://localhost:8080/"
        },
        "id": "ix4HyWRm70mk",
        "outputId": "4db4eeec-f59b-4581-d159-2e355a0c17ea"
      },
      "outputs": [
        {
          "output_type": "stream",
          "name": "stdout",
          "text": [
            "Number of null values in ' StartStation Name': DataFrame[Rental Id: string, Duration: int, Bike Id: string, End Date: string, EndStation Id: string, EndStation Name: string, Start Date: date, StartStation Id: string, StartStation Name: string, Month: int]\n",
            "+---------+--------+-------+--------+-------------+---------------+----------+---------------+-----------------+-----+\n",
            "|Rental Id|Duration|Bike Id|End Date|EndStation Id|EndStation Name|Start Date|StartStation Id|StartStation Name|Month|\n",
            "+---------+--------+-------+--------+-------------+---------------+----------+---------------+-----------------+-----+\n",
            "|     null|    null|   null|    null|         null|           null|      null|           null|             null| null|\n",
            "|     null|    null|   null|    null|         null|           null|      null|           null|             null| null|\n",
            "|     null|    null|   null|    null|         null|           null|      null|           null|             null| null|\n",
            "|     null|    null|   null|    null|         null|           null|      null|           null|             null| null|\n",
            "|     null|    null|   null|    null|         null|           null|      null|           null|             null| null|\n",
            "|     null|    null|   null|    null|         null|           null|      null|           null|             null| null|\n",
            "|     null|    null|   null|    null|         null|           null|      null|           null|             null| null|\n",
            "|     null|    null|   null|    null|         null|           null|      null|           null|             null| null|\n",
            "|     null|    null|   null|    null|         null|           null|      null|           null|             null| null|\n",
            "|     null|    null|   null|    null|         null|           null|      null|           null|             null| null|\n",
            "|     null|    null|   null|    null|         null|           null|      null|           null|             null| null|\n",
            "|     null|    null|   null|    null|         null|           null|      null|           null|             null| null|\n",
            "|     null|    null|   null|    null|         null|           null|      null|           null|             null| null|\n",
            "|     null|    null|   null|    null|         null|           null|      null|           null|             null| null|\n",
            "|     null|    null|   null|    null|         null|           null|      null|           null|             null| null|\n",
            "|     null|    null|   null|    null|         null|           null|      null|           null|             null| null|\n",
            "|     null|    null|   null|    null|         null|           null|      null|           null|             null| null|\n",
            "|     null|    null|   null|    null|         null|           null|      null|           null|             null| null|\n",
            "|     null|    null|   null|    null|         null|           null|      null|           null|             null| null|\n",
            "|     null|    null|   null|    null|         null|           null|      null|           null|             null| null|\n",
            "+---------+--------+-------+--------+-------------+---------------+----------+---------------+-----------------+-----+\n",
            "only showing top 20 rows\n",
            "\n"
          ]
        }
      ],
      "source": [
        "#Null Count in the 'Start Station' column\n",
        "null_count_Start_station = cyclehire.filter(col(\"StartStation Name\").isNull())\n",
        "print(\"Number of null values in ' StartStation Name':\", null_count_Start_station)\n",
        "null_count_Start_station.show()"
      ]
    },
    {
      "cell_type": "code",
      "source": [
        "unique_rows = cyclehire.dropDuplicates().count()\n",
        "total_rows =cyclehire.count()\n",
        "duplicate_rows = total_rows - unique_rows\n",
        "duplicate_rows"
      ],
      "metadata": {
        "colab": {
          "base_uri": "https://localhost:8080/"
        },
        "id": "rALCM_lcRqEe",
        "outputId": "49d8d17b-c588-42cf-b00b-f14665f8692c"
      },
      "execution_count": null,
      "outputs": [
        {
          "output_type": "execute_result",
          "data": {
            "text/plain": [
              "1239112"
            ]
          },
          "metadata": {},
          "execution_count": 21
        }
      ]
    },
    {
      "cell_type": "code",
      "execution_count": null,
      "metadata": {
        "colab": {
          "background_save": true
        },
        "id": "GDRwCORbHc2e"
      },
      "outputs": [],
      "source": [
        "# Convert to Pandas DataFrame for plotting\n",
        "duration_pandas = cyclehire.select(\"Month\", \"Duration\").toPandas()\n",
        "\n"
      ]
    },
    {
      "cell_type": "code",
      "execution_count": null,
      "metadata": {
        "colab": {
          "background_save": true
        },
        "id": "vIn5uYjsvJGZ",
        "outputId": "93aa24d5-e513-412a-86be-320b7c6bde46"
      },
      "outputs": [
        {
          "name": "stdout",
          "output_type": "stream",
          "text": [
            "<class 'pandas.core.frame.DataFrame'>\n",
            "RangeIndex: 11481596 entries, 0 to 11481595\n",
            "Data columns (total 2 columns):\n",
            " #   Column    Dtype  \n",
            "---  ------    -----  \n",
            " 0   Month     float64\n",
            " 1   Duration  float64\n",
            "dtypes: float64(2)\n",
            "memory usage: 175.2 MB\n"
          ]
        }
      ],
      "source": [
        "\n",
        "duration_pandas.info()"
      ]
    },
    {
      "cell_type": "code",
      "execution_count": null,
      "metadata": {
        "colab": {
          "base_uri": "https://localhost:8080/",
          "height": 651
        },
        "id": "RfCU3a_ep5Qf",
        "outputId": "47e40d6c-397f-4495-8266-e19f14b5da29"
      },
      "outputs": [
        {
          "name": "stderr",
          "output_type": "stream",
          "text": [
            "<ipython-input-31-6fe5b4582e9c>:4: FutureWarning: \n",
            "\n",
            "Passing `palette` without assigning `hue` is deprecated and will be removed in v0.14.0. Assign the `x` variable to `hue` and set `legend=False` for the same effect.\n",
            "\n",
            "  sns.boxplot(x=\"Month\", y=\"Duration\", data=duration_pandas,palette=\"pastel\")\n"
          ]
        },
        {
          "data": {
            "image/png": "[encoded data removed]",
            "text/plain": [
              "<Figure size 1000x600 with 1 Axes>"
            ]
          },
          "metadata": {},
          "output_type": "display_data"
        }
      ],
      "source": [
        "import seaborn as sns\n",
        "# Plot boxplot with outliers using Matplotlib\n",
        "plt.figure(figsize=(10, 6))\n",
        "sns.boxplot(x=\"Month\", y=\"Duration\", data=duration_pandas,palette=\"pastel\")\n",
        "plt.xlabel(\"Month\")\n",
        "plt.ylabel(\"Duration\")\n",
        "plt.title(\"Boxplot of Duration by Month with Outliers\")\n",
        "plt.show()"
      ]
    },
    {
      "cell_type": "markdown",
      "metadata": {
        "id": "dOuViKkycc05"
      },
      "source": [
        "##Removing Anomalies:"
      ]
    },
    {
      "cell_type": "code",
      "execution_count": null,
      "metadata": {
        "colab": {
          "base_uri": "https://localhost:8080/"
        },
        "id": "s6WQTRd3X2o2",
        "outputId": "2987059a-573a-4209-a5d1-d45a662f1ad7"
      },
      "outputs": [
        {
          "output_type": "stream",
          "name": "stdout",
          "text": [
            "+---------+--------+-------+----------------+-------------+--------------------+----------+---------------+--------------------+-----+\n",
            "|Rental Id|Duration|Bike Id|        End Date|EndStation Id|     EndStation Name|Start Date|StartStation Id|   StartStation Name|Month|\n",
            "+---------+--------+-------+----------------+-------------+--------------------+----------+---------------+--------------------+-----+\n",
            "| 34833716|       0|   8377|09/07/2014 16:10|           66|Holborn Circus, H...|2014-07-09|             66|Holborn Circus, H...|    7|\n",
            "| 35040768|       0|  12611|15/07/2014 08:46|           74|Vauxhall Cross, V...|2014-07-15|             74|Vauxhall Cross, V...|    7|\n",
            "| 34871642|       0|   3311|10/07/2014 16:49|          598|Southerton Road, ...|2014-07-10|            598|Southerton Road, ...|    7|\n",
            "| 34724920|       0|   9969|06/07/2014 16:27|           13|Scala Street, Fit...|2014-07-06|             13|Scala Street, Fit...|    7|\n",
            "| 35213542|       0|   1549|19/07/2014 10:36|           74|Vauxhall Cross, V...|2014-07-19|             74|Vauxhall Cross, V...|    7|\n",
            "| 34301663|       0|   7211|24/06/2014 21:44|          384|Marloes Road, Ken...|2014-06-24|            384|Marloes Road, Ken...|    6|\n",
            "| 34337123|       0|   1191|25/06/2014 19:07|          384|Marloes Road, Ken...|2014-06-25|            384|Marloes Road, Ken...|    6|\n",
            "| 34898434|       0|   7752|11/07/2014 14:59|          228|St. James's Squar...|2014-07-11|            228|St. James's Squar...|    7|\n",
            "| 35196040|       0|   7778|18/07/2014 18:10|          126|Museum of London,...|2014-07-18|            126|Museum of London,...|    7|\n",
            "| 34515707|       0|   2070|01/07/2014 09:55|          546|New Fetter Lane, ...|2014-07-01|            546|New Fetter Lane, ...|    7|\n",
            "| 34235403|       0|   5003|23/06/2014 09:17|          545|Arlington Road, C...|2014-06-23|            545|Arlington Road, C...|    6|\n",
            "| 34516219|       0|   6943|01/07/2014 10:16|          254|Chadwell Street, ...|2014-07-01|            254|Chadwell Street, ...|    7|\n",
            "| 34697196|       0|  11869|05/07/2014 19:02|            1|River Street , Cl...|2014-07-05|              1|River Street , Cl...|    7|\n",
            "| 34414311|       0|  10411|27/06/2014 19:44|          133|Derry Street, Ken...|2014-06-27|            133|Derry Street, Ken...|    6|\n",
            "| 34499362|       0|   3106|30/06/2014 19:26|          266|Queen's Gate (Nor...|2014-06-30|            266|Queen's Gate (Nor...|    6|\n",
            "| 34475816|       0|    250|30/06/2014 08:26|          647|Richmond Way, She...|2014-06-30|            647|Richmond Way, She...|    6|\n",
            "| 35213255|       0|  10439|19/07/2014 10:25|          294|St. George's Squa...|2014-07-19|            294|St. George's Squa...|    7|\n",
            "| 34364336|       0|   9780|26/06/2014 14:34|           22|Northington Stree...|2014-06-26|             22|Northington Stree...|    6|\n",
            "| 34964586|       0|   7328|13/07/2014 10:43|           30|Windsor Terrace, ...|2014-07-13|             42|Wenlock Road , Ho...|    7|\n",
            "| 34707957|       0|   9493|06/07/2014 09:31|           30|Windsor Terrace, ...|2014-07-06|             42|Wenlock Road , Ho...|    7|\n",
            "+---------+--------+-------+----------------+-------------+--------------------+----------+---------------+--------------------+-----+\n",
            "only showing top 20 rows\n",
            "\n"
          ]
        },
        {
          "output_type": "execute_result",
          "data": {
            "text/plain": [
              "1271615"
            ]
          },
          "metadata": {},
          "execution_count": 23
        }
      ],
      "source": [
        "## Data in which Duration is less than or equal to zero\n",
        "A = cyclehire.filter((col(\"Duration\")<=0)| (col(\"Duration\").isNull()))\n",
        "A.show()\n",
        "A.count()\n"
      ]
    },
    {
      "cell_type": "code",
      "execution_count": null,
      "metadata": {
        "colab": {
          "base_uri": "https://localhost:8080/"
        },
        "id": "S7rY9bnGaZM7",
        "outputId": "93c27185-7c76-4546-a94d-276f203af99a"
      },
      "outputs": [
        {
          "output_type": "execute_result",
          "data": {
            "text/plain": [
              "10209981"
            ]
          },
          "metadata": {},
          "execution_count": 24
        }
      ],
      "source": [
        "#removing the null values and storing it in a dataframe called cyclehire\n",
        "cyclehire = cyclehire.where(cyclehire.Duration>0)\n",
        "cyclehire.count()"
      ]
    },
    {
      "cell_type": "code",
      "execution_count": null,
      "metadata": {
        "colab": {
          "base_uri": "https://localhost:8080/"
        },
        "id": "fmOQl5dl9bIg",
        "outputId": "c367d723-e620-4e16-a691-5267899f34a0"
      },
      "outputs": [
        {
          "output_type": "execute_result",
          "data": {
            "text/plain": [
              "0"
            ]
          },
          "metadata": {},
          "execution_count": 25
        }
      ],
      "source": [
        "cyclehire.filter(col(\"StartStation Name\").isNull()).count()"
      ]
    },
    {
      "cell_type": "code",
      "source": [
        "\n",
        "#Removing the Duplicate Values and restoring it in a cyclehire\n",
        "cyclehire = cyclehire.dropDuplicates().count()\n"
      ],
      "metadata": {
        "colab": {
          "base_uri": "https://localhost:8080/"
        },
        "id": "Md9GUuM6diGp",
        "outputId": "f35be07a-fff8-49fc-bd91-bb89a3d9bb95"
      },
      "execution_count": null,
      "outputs": [
        {
          "output_type": "execute_result",
          "data": {
            "text/plain": [
              "10209981"
            ]
          },
          "metadata": {},
          "execution_count": 27
        }
      ]
    },
    {
      "cell_type": "code",
      "execution_count": null,
      "metadata": {
        "id": "GEagZljqBGO6"
      },
      "outputs": [],
      "source": [
        "#Removing the outliers ie., Duration less than 90 seconds and duration greater than 7200 seconds\n",
        "cyclehire = cyclehire.filter((col(\"Duration\") >= 90 ) &\n",
        "                                      (col(\"Duration\") <= 7200))"
      ]
    },
    {
      "cell_type": "code",
      "execution_count": null,
      "metadata": {
        "colab": {
          "base_uri": "https://localhost:8080/"
        },
        "id": "82DabLRY9Qqv",
        "outputId": "1c0a4dca-d082-4dc2-cee2-02d95b25ad5e"
      },
      "outputs": [
        {
          "output_type": "stream",
          "name": "stdout",
          "text": [
            "+-------+------------------+\n",
            "|summary|          Duration|\n",
            "+-------+------------------+\n",
            "|  count|          10066878|\n",
            "|   mean|1049.0428730734593|\n",
            "| stddev| 904.8199781005692|\n",
            "|    min|               120|\n",
            "|    max|              7200|\n",
            "+-------+------------------+\n",
            "\n"
          ]
        }
      ],
      "source": [
        "cyclehire.describe(\"Duration\").show()\n"
      ]
    },
    {
      "cell_type": "markdown",
      "metadata": {
        "id": "fqo35pXubFSs"
      },
      "source": [
        "##Baylis, Waterloo Details"
      ]
    },
    {
      "cell_type": "code",
      "execution_count": null,
      "metadata": {
        "colab": {
          "base_uri": "https://localhost:8080/"
        },
        "id": "MmO6264oplhc",
        "outputId": "27e01c5e-8083-424b-ae81-816497c93fce"
      },
      "outputs": [
        {
          "output_type": "execute_result",
          "data": {
            "text/plain": [
              "26914"
            ]
          },
          "metadata": {},
          "execution_count": 32
        }
      ],
      "source": [
        "baylis_road_rides = cyclehire.filter((col(\"StartStation Name\").like(\"Baylis Road, Waterloo\")))\n",
        "baylis_road_rides.count()"
      ]
    },
    {
      "cell_type": "code",
      "execution_count": null,
      "metadata": {
        "colab": {
          "base_uri": "https://localhost:8080/"
        },
        "id": "6gL-v47nbJCU",
        "outputId": "45dc2fe6-2e43-4b2b-c2af-c01650679187"
      },
      "outputs": [
        {
          "output_type": "stream",
          "name": "stdout",
          "text": [
            "+-----+-----------------+\n",
            "|Month|    avg(Duration)|\n",
            "+-----+-----------------+\n",
            "|    1|737.4076561450638|\n",
            "|    2|775.3235908141962|\n",
            "|    3|766.6356589147287|\n",
            "|    4|776.7362797474502|\n",
            "|    5|854.4636095919226|\n",
            "|    6|853.7414965986394|\n",
            "|    7| 925.803842264914|\n",
            "|    8|919.1619479048697|\n",
            "|    9|821.9190076614374|\n",
            "|   10|785.1288659793814|\n",
            "|   11|710.4723618090452|\n",
            "|   12| 738.684668989547|\n",
            "+-----+-----------------+\n",
            "\n"
          ]
        }
      ],
      "source": [
        "baylis_road_avg_duration = baylis_road_rides.groupby(\"Month\").agg({\"Duration\": \"avg\"}).orderBy(\"Month\")\n",
        "baylis_road_avg_duration.show()"
      ]
    },
    {
      "cell_type": "code",
      "source": [
        "baylis_road_avg_duration_pandas = baylis_road_avg_duration.toPandas()"
      ],
      "metadata": {
        "id": "Wk5gVSz5iTWs"
      },
      "execution_count": null,
      "outputs": []
    },
    {
      "cell_type": "code",
      "source": [
        "baylis_monthly_durations = baylis_road_rides.groupBy(\"Month\").agg(collect_list(\"Duration\").alias(\"Durations_Baylis\"))"
      ],
      "metadata": {
        "id": "8mqq2fJszFEL"
      },
      "execution_count": null,
      "outputs": []
    },
    {
      "cell_type": "code",
      "source": [
        "baylis_monthly_durations_pandas = baylis_monthly_durations.toPandas()"
      ],
      "metadata": {
        "id": "AMaclgrUz9aZ"
      },
      "execution_count": null,
      "outputs": []
    },
    {
      "cell_type": "markdown",
      "metadata": {
        "id": "e3plStE8rGSx"
      },
      "source": [
        "##Other Station Details"
      ]
    },
    {
      "cell_type": "code",
      "execution_count": null,
      "metadata": {
        "id": "CJ15C1N4rK4E"
      },
      "outputs": [],
      "source": [
        "other_station_rides = cyclehire.filter((cyclehire[\"StartStation Name\"] != \"Baylis Road, Waterloo Station\"))"
      ]
    },
    {
      "cell_type": "code",
      "execution_count": null,
      "metadata": {
        "colab": {
          "base_uri": "https://localhost:8080/"
        },
        "id": "zDJff-iHrLFB",
        "outputId": "1c278bb5-f2ba-4569-efff-178015f390c7"
      },
      "outputs": [
        {
          "output_type": "execute_result",
          "data": {
            "text/plain": [
              "DataFrame[Rental Id: string, Duration: int, Bike Id: string, End Date: string, EndStation Id: string, EndStation Name: string, Start Date: date, StartStation Id: string, StartStation Name: string, Month: int]"
            ]
          },
          "metadata": {},
          "execution_count": 60
        }
      ],
      "source": [
        "other_station_rides"
      ]
    },
    {
      "cell_type": "code",
      "execution_count": null,
      "metadata": {
        "colab": {
          "base_uri": "https://localhost:8080/"
        },
        "id": "gtk1E-6zrLZX",
        "outputId": "808a606a-d961-46ac-989f-b35bc8010d7e"
      },
      "outputs": [
        {
          "output_type": "stream",
          "name": "stdout",
          "text": [
            "+-----+------------------+\n",
            "|Month|     avg(Duration)|\n",
            "+-----+------------------+\n",
            "|    1| 887.2909169763108|\n",
            "|    2| 939.7040878824047|\n",
            "|    3| 1057.436136003787|\n",
            "|    4|1090.0551734195367|\n",
            "|    5| 1088.081605410078|\n",
            "|    6| 1109.093966633432|\n",
            "|    7|1130.1528238854646|\n",
            "|    8|1164.4138821006065|\n",
            "|    9|1053.3771040863592|\n",
            "|   10| 989.8763721334637|\n",
            "|   11| 923.0806632750389|\n",
            "|   12|  970.154543967776|\n",
            "+-----+------------------+\n",
            "\n"
          ]
        }
      ],
      "source": [
        "other_station_avg_duration = other_station_rides.groupby(\"Month\").agg({\"Duration\": \"avg\"}).orderBy(\"Month\")\n",
        "other_station_avg_duration.show()"
      ]
    },
    {
      "cell_type": "code",
      "execution_count": null,
      "metadata": {
        "id": "PpAfGYhk7Z1e"
      },
      "outputs": [],
      "source": [
        "other_station_avg_duration_pandas = other_station_avg_duration.toPandas()"
      ]
    },
    {
      "cell_type": "code",
      "source": [
        "other_monthly_durations = other_station_rides.groupBy(\"Month\").agg(collect_list(\"Duration\").alias(\"Durations_Other\"))"
      ],
      "metadata": {
        "id": "JSGVxR-7zdGd"
      },
      "execution_count": null,
      "outputs": []
    },
    {
      "cell_type": "code",
      "source": [
        "other_monthly_durations_pandas = other_monthly_durations.toPandas()\n",
        "other_monthly_durations_pandas"
      ],
      "metadata": {
        "colab": {
          "base_uri": "https://localhost:8080/",
          "height": 426
        },
        "id": "AXDM_Rr9zwYx",
        "outputId": "d905c4b5-c8d4-43bf-ce29-80c239bf140b"
      },
      "execution_count": null,
      "outputs": [
        {
          "output_type": "execute_result",
          "data": {
            "text/plain": [
              "    Month                                    Durations_Other\n",
              "0       6  [1080, 900, 300, 600, 660, 780, 540, 720, 600,...\n",
              "1       5  [1140, 660, 1560, 1380, 1620, 1080, 840, 840, ...\n",
              "2       3  [1380, 1500, 1440, 1380, 1440, 1200, 180, 1380...\n",
              "3       1  [1140, 1560, 1200, 1380, 1320, 1080, 1440, 144...\n",
              "4      12  [1380, 1680, 1200, 1320, 180, 480, 300, 420, 4...\n",
              "5       7  [660, 120, 1260, 1500, 1380, 2820, 180, 420, 1...\n",
              "6       4  [300, 1920, 3000, 2700, 2280, 240, 720, 660, 7...\n",
              "7       8  [1860, 960, 1140, 480, 2100, 780, 660, 600, 60...\n",
              "8       9  [120, 1080, 2820, 1620, 480, 1080, 1380, 3060,...\n",
              "9      10  [360, 720, 180, 1020, 1320, 840, 600, 660, 960...\n",
              "10      2  [1260, 1020, 1500, 1440, 1260, 420, 1080, 1260...\n",
              "11     11  [120, 420, 360, 1500, 840, 1680, 660, 1140, 12..."
            ],
            "text/html": [
              "\n",
              "  <div id=\"df-4ce18b2c-4709-49e1-87ab-0504e06166ae\" class=\"colab-df-container\">\n",
              "    <div>\n",
              "<style scoped>\n",
              "    .dataframe tbody tr th:only-of-type {\n",
              "        vertical-align: middle;\n",
              "    }\n",
              "\n",
              "    .dataframe tbody tr th {\n",
              "        vertical-align: top;\n",
              "    }\n",
              "\n",
              "    .dataframe thead th {\n",
              "        text-align: right;\n",
              "    }\n",
              "</style>\n",
              "<table border=\"1\" class=\"dataframe\">\n",
              "  <thead>\n",
              "    <tr style=\"text-align: right;\">\n",
              "      <th></th>\n",
              "      <th>Month</th>\n",
              "      <th>Durations_Other</th>\n",
              "    </tr>\n",
              "  </thead>\n",
              "  <tbody>\n",
              "    <tr>\n",
              "      <th>0</th>\n",
              "      <td>6</td>\n",
              "      <td>[1080, 900, 300, 600, 660, 780, 540, 720, 600,...</td>\n",
              "    </tr>\n",
              "    <tr>\n",
              "      <th>1</th>\n",
              "      <td>5</td>\n",
              "      <td>[1140, 660, 1560, 1380, 1620, 1080, 840, 840, ...</td>\n",
              "    </tr>\n",
              "    <tr>\n",
              "      <th>2</th>\n",
              "      <td>3</td>\n",
              "      <td>[1380, 1500, 1440, 1380, 1440, 1200, 180, 1380...</td>\n",
              "    </tr>\n",
              "    <tr>\n",
              "      <th>3</th>\n",
              "      <td>1</td>\n",
              "      <td>[1140, 1560, 1200, 1380, 1320, 1080, 1440, 144...</td>\n",
              "    </tr>\n",
              "    <tr>\n",
              "      <th>4</th>\n",
              "      <td>12</td>\n",
              "      <td>[1380, 1680, 1200, 1320, 180, 480, 300, 420, 4...</td>\n",
              "    </tr>\n",
              "    <tr>\n",
              "      <th>5</th>\n",
              "      <td>7</td>\n",
              "      <td>[660, 120, 1260, 1500, 1380, 2820, 180, 420, 1...</td>\n",
              "    </tr>\n",
              "    <tr>\n",
              "      <th>6</th>\n",
              "      <td>4</td>\n",
              "      <td>[300, 1920, 3000, 2700, 2280, 240, 720, 660, 7...</td>\n",
              "    </tr>\n",
              "    <tr>\n",
              "      <th>7</th>\n",
              "      <td>8</td>\n",
              "      <td>[1860, 960, 1140, 480, 2100, 780, 660, 600, 60...</td>\n",
              "    </tr>\n",
              "    <tr>\n",
              "      <th>8</th>\n",
              "      <td>9</td>\n",
              "      <td>[120, 1080, 2820, 1620, 480, 1080, 1380, 3060,...</td>\n",
              "    </tr>\n",
              "    <tr>\n",
              "      <th>9</th>\n",
              "      <td>10</td>\n",
              "      <td>[360, 720, 180, 1020, 1320, 840, 600, 660, 960...</td>\n",
              "    </tr>\n",
              "    <tr>\n",
              "      <th>10</th>\n",
              "      <td>2</td>\n",
              "      <td>[1260, 1020, 1500, 1440, 1260, 420, 1080, 1260...</td>\n",
              "    </tr>\n",
              "    <tr>\n",
              "      <th>11</th>\n",
              "      <td>11</td>\n",
              "      <td>[120, 420, 360, 1500, 840, 1680, 660, 1140, 12...</td>\n",
              "    </tr>\n",
              "  </tbody>\n",
              "</table>\n",
              "</div>\n",
              "    <div class=\"colab-df-buttons\">\n",
              "\n",
              "  <div class=\"colab-df-container\">\n",
              "    <button class=\"colab-df-convert\" onclick=\"convertToInteractive('df-4ce18b2c-4709-49e1-87ab-0504e06166ae')\"\n",
              "            title=\"Convert this dataframe to an interactive table.\"\n",
              "            style=\"display:none;\">\n",
              "\n",
              "  <svg xmlns=\"http://www.w3.org/2000/svg\" height=\"24px\" viewBox=\"0 -960 960 960\">\n",
              "    <path d=\"M120-120v-720h720v720H120Zm60-500h600v-160H180v160Zm220 220h160v-160H400v160Zm0 220h160v-160H400v160ZM180-400h160v-160H180v160Zm440 0h160v-160H620v160ZM180-180h160v-160H180v160Zm440 0h160v-160H620v160Z\"/>\n",
              "  </svg>\n",
              "    </button>\n",
              "\n",
              "  <style>\n",
              "    .colab-df-container {\n",
              "      display:flex;\n",
              "      gap: 12px;\n",
              "    }\n",
              "\n",
              "    .colab-df-convert {\n",
              "      background-color: #E8F0FE;\n",
              "      border: none;\n",
              "      border-radius: 50%;\n",
              "      cursor: pointer;\n",
              "      display: none;\n",
              "      fill: #1967D2;\n",
              "      height: 32px;\n",
              "      padding: 0 0 0 0;\n",
              "      width: 32px;\n",
              "    }\n",
              "\n",
              "    .colab-df-convert:hover {\n",
              "      background-color: #E2EBFA;\n",
              "      box-shadow: 0px 1px 2px rgba(60, 64, 67, 0.3), 0px 1px 3px 1px rgba(60, 64, 67, 0.15);\n",
              "      fill: #174EA6;\n",
              "    }\n",
              "\n",
              "    .colab-df-buttons div {\n",
              "      margin-bottom: 4px;\n",
              "    }\n",
              "\n",
              "    [theme=dark] .colab-df-convert {\n",
              "      background-color: #3B4455;\n",
              "      fill: #D2E3FC;\n",
              "    }\n",
              "\n",
              "    [theme=dark] .colab-df-convert:hover {\n",
              "      background-color: #434B5C;\n",
              "      box-shadow: 0px 1px 3px 1px rgba(0, 0, 0, 0.15);\n",
              "      filter: drop-shadow(0px 1px 2px rgba(0, 0, 0, 0.3));\n",
              "      fill: #FFFFFF;\n",
              "    }\n",
              "  </style>\n",
              "\n",
              "    <script>\n",
              "      const buttonEl =\n",
              "        document.querySelector('#df-4ce18b2c-4709-49e1-87ab-0504e06166ae button.colab-df-convert');\n",
              "      buttonEl.style.display =\n",
              "        google.colab.kernel.accessAllowed ? 'block' : 'none';\n",
              "\n",
              "      async function convertToInteractive(key) {\n",
              "        const element = document.querySelector('#df-4ce18b2c-4709-49e1-87ab-0504e06166ae');\n",
              "        const dataTable =\n",
              "          await google.colab.kernel.invokeFunction('convertToInteractive',\n",
              "                                                    [key], {});\n",
              "        if (!dataTable) return;\n",
              "\n",
              "        const docLinkHtml = 'Like what you see? Visit the ' +\n",
              "          '<a target=\"_blank\" href=https://colab.research.google.com/notebooks/data_table.ipynb>data table notebook</a>'\n",
              "          + ' to learn more about interactive tables.';\n",
              "        element.innerHTML = '';\n",
              "        dataTable['output_type'] = 'display_data';\n",
              "        await google.colab.output.renderOutput(dataTable, element);\n",
              "        const docLink = document.createElement('div');\n",
              "        docLink.innerHTML = docLinkHtml;\n",
              "        element.appendChild(docLink);\n",
              "      }\n",
              "    </script>\n",
              "  </div>\n",
              "\n",
              "\n",
              "<div id=\"df-fbc043bf-b0aa-47c2-959a-80902269ba49\">\n",
              "  <button class=\"colab-df-quickchart\" onclick=\"quickchart('df-fbc043bf-b0aa-47c2-959a-80902269ba49')\"\n",
              "            title=\"Suggest charts\"\n",
              "            style=\"display:none;\">\n",
              "\n",
              "<svg xmlns=\"http://www.w3.org/2000/svg\" height=\"24px\"viewBox=\"0 0 24 24\"\n",
              "     width=\"24px\">\n",
              "    <g>\n",
              "        <path d=\"M19 3H5c-1.1 0-2 .9-2 2v14c0 1.1.9 2 2 2h14c1.1 0 2-.9 2-2V5c0-1.1-.9-2-2-2zM9 17H7v-7h2v7zm4 0h-2V7h2v10zm4 0h-2v-4h2v4z\"/>\n",
              "    </g>\n",
              "</svg>\n",
              "  </button>\n",
              "\n",
              "<style>\n",
              "  .colab-df-quickchart {\n",
              "      --bg-color: #E8F0FE;\n",
              "      --fill-color: #1967D2;\n",
              "      --hover-bg-color: #E2EBFA;\n",
              "      --hover-fill-color: #174EA6;\n",
              "      --disabled-fill-color: #AAA;\n",
              "      --disabled-bg-color: #DDD;\n",
              "  }\n",
              "\n",
              "  [theme=dark] .colab-df-quickchart {\n",
              "      --bg-color: #3B4455;\n",
              "      --fill-color: #D2E3FC;\n",
              "      --hover-bg-color: #434B5C;\n",
              "      --hover-fill-color: #FFFFFF;\n",
              "      --disabled-bg-color: #3B4455;\n",
              "      --disabled-fill-color: #666;\n",
              "  }\n",
              "\n",
              "  .colab-df-quickchart {\n",
              "    background-color: var(--bg-color);\n",
              "    border: none;\n",
              "    border-radius: 50%;\n",
              "    cursor: pointer;\n",
              "    display: none;\n",
              "    fill: var(--fill-color);\n",
              "    height: 32px;\n",
              "    padding: 0;\n",
              "    width: 32px;\n",
              "  }\n",
              "\n",
              "  .colab-df-quickchart:hover {\n",
              "    background-color: var(--hover-bg-color);\n",
              "    box-shadow: 0 1px 2px rgba(60, 64, 67, 0.3), 0 1px 3px 1px rgba(60, 64, 67, 0.15);\n",
              "    fill: var(--button-hover-fill-color);\n",
              "  }\n",
              "\n",
              "  .colab-df-quickchart-complete:disabled,\n",
              "  .colab-df-quickchart-complete:disabled:hover {\n",
              "    background-color: var(--disabled-bg-color);\n",
              "    fill: var(--disabled-fill-color);\n",
              "    box-shadow: none;\n",
              "  }\n",
              "\n",
              "  .colab-df-spinner {\n",
              "    border: 2px solid var(--fill-color);\n",
              "    border-color: transparent;\n",
              "    border-bottom-color: var(--fill-color);\n",
              "    animation:\n",
              "      spin 1s steps(1) infinite;\n",
              "  }\n",
              "\n",
              "  @keyframes spin {\n",
              "    0% {\n",
              "      border-color: transparent;\n",
              "      border-bottom-color: var(--fill-color);\n",
              "      border-left-color: var(--fill-color);\n",
              "    }\n",
              "    20% {\n",
              "      border-color: transparent;\n",
              "      border-left-color: var(--fill-color);\n",
              "      border-top-color: var(--fill-color);\n",
              "    }\n",
              "    30% {\n",
              "      border-color: transparent;\n",
              "      border-left-color: var(--fill-color);\n",
              "      border-top-color: var(--fill-color);\n",
              "      border-right-color: var(--fill-color);\n",
              "    }\n",
              "    40% {\n",
              "      border-color: transparent;\n",
              "      border-right-color: var(--fill-color);\n",
              "      border-top-color: var(--fill-color);\n",
              "    }\n",
              "    60% {\n",
              "      border-color: transparent;\n",
              "      border-right-color: var(--fill-color);\n",
              "    }\n",
              "    80% {\n",
              "      border-color: transparent;\n",
              "      border-right-color: var(--fill-color);\n",
              "      border-bottom-color: var(--fill-color);\n",
              "    }\n",
              "    90% {\n",
              "      border-color: transparent;\n",
              "      border-bottom-color: var(--fill-color);\n",
              "    }\n",
              "  }\n",
              "</style>\n",
              "\n",
              "  <script>\n",
              "    async function quickchart(key) {\n",
              "      const quickchartButtonEl =\n",
              "        document.querySelector('#' + key + ' button');\n",
              "      quickchartButtonEl.disabled = true;  // To prevent multiple clicks.\n",
              "      quickchartButtonEl.classList.add('colab-df-spinner');\n",
              "      try {\n",
              "        const charts = await google.colab.kernel.invokeFunction(\n",
              "            'suggestCharts', [key], {});\n",
              "      } catch (error) {\n",
              "        console.error('Error during call to suggestCharts:', error);\n",
              "      }\n",
              "      quickchartButtonEl.classList.remove('colab-df-spinner');\n",
              "      quickchartButtonEl.classList.add('colab-df-quickchart-complete');\n",
              "    }\n",
              "    (() => {\n",
              "      let quickchartButtonEl =\n",
              "        document.querySelector('#df-fbc043bf-b0aa-47c2-959a-80902269ba49 button');\n",
              "      quickchartButtonEl.style.display =\n",
              "        google.colab.kernel.accessAllowed ? 'block' : 'none';\n",
              "    })();\n",
              "  </script>\n",
              "</div>\n",
              "    </div>\n",
              "  </div>\n"
            ],
            "application/vnd.google.colaboratory.intrinsic+json": {
              "type": "dataframe",
              "variable_name": "other_monthly_durations_pandas",
              "summary": "{\n  \"name\": \"other_monthly_durations_pandas\",\n  \"rows\": 12,\n  \"fields\": [\n    {\n      \"column\": \"Month\",\n      \"properties\": {\n        \"dtype\": \"int32\",\n        \"num_unique_values\": 12,\n        \"samples\": [\n          2,\n          10,\n          6\n        ],\n        \"semantic_type\": \"\",\n        \"description\": \"\"\n      }\n    },\n    {\n      \"column\": \"Durations_Other\",\n      \"properties\": {\n        \"dtype\": \"object\",\n        \"semantic_type\": \"\",\n        \"description\": \"\"\n      }\n    }\n  ]\n}"
            }
          },
          "metadata": {},
          "execution_count": 66
        }
      ]
    },
    {
      "cell_type": "markdown",
      "source": [
        "#Statistical Analysis"
      ],
      "metadata": {
        "id": "fzcHD4zBzw9t"
      }
    },
    {
      "cell_type": "code",
      "source": [
        "import matplotlib.pyplot as plt\n",
        "import seaborn as sns\n",
        "#Combining the avgerage durations of both to visualize\n",
        "combined_df = baylis_road_avg_duration_pandas.merge(other_station_avg_duration_pandas, on='Month', suffixes=('_Baylis', '_Other'))\n",
        "combined_df.set_index('Month', inplace=True)\n",
        "combined_df.plot(kind='bar', figsize=(10, 6))\n",
        "plt.xlabel('Month')\n",
        "plt.ylabel('Average Duration (seconds)')\n",
        "plt.title('Average Ride Duration: Baylis Road vs. Other Stations')\n",
        "plt.xticks(rotation=45)  # Rotate x-axis labels for better readability\n",
        "plt.legend(['Baylis Road', 'Other Stations'])\n",
        "plt.show()"
      ],
      "metadata": {
        "id": "G0rA-tMsq1fO",
        "colab": {
          "base_uri": "https://localhost:8080/",
          "height": 573
        },
        "outputId": "3cdcc4ad-3e9d-4a49-c14c-546ab52b5ee8"
      },
      "execution_count": null,
      "outputs": [
        {
          "output_type": "display_data",
          "data": {
            "text/plain": [
              "<Figure size 1000x600 with 1 Axes>"
            ],
            "image/png": "[encoded data removed]"
          },
          "metadata": {}
        }
      ]
    },
    {
      "cell_type": "code",
      "execution_count": null,
      "metadata": {
        "id": "_T0IoSZ8ODN0"
      },
      "outputs": [],
      "source": [
        "# Convert Pandas Series to arrays\n",
        "baylis_road_durations = baylis_road_rides.select(\"Duration\").toPandas()[\"Duration\"].astype(float).values\n",
        "other_station_durations = other_station_rides.select(\"Duration\").toPandas()[\"Duration\"].astype(float).values"
      ]
    },
    {
      "cell_type": "code",
      "execution_count": null,
      "metadata": {
        "colab": {
          "base_uri": "https://localhost:8080/",
          "height": 564
        },
        "id": "a-Kn0jyj0Lmc",
        "outputId": "0ffb58d7-6ed4-467d-a5f0-41dade872f8c"
      },
      "outputs": [
        {
          "output_type": "display_data",
          "data": {
            "text/plain": [
              "<Figure size 1000x600 with 1 Axes>"
            ],
            "image/png": "[encoded data removed]"
          },
          "metadata": {}
        }
      ],
      "source": [
        "plt.figure(figsize=(10, 6))\n",
        "plt.boxplot([baylis_road_durations, other_station_durations], labels=['Baylis Road', 'Other Stations'])\n",
        "plt.xlabel('Station')\n",
        "\n",
        "plt.ylabel('Ride Duration (seconds)')\n",
        "plt.title('Boxplot of Ride Durations')\n",
        "plt.grid(True)\n",
        "plt.show()"
      ]
    },
    {
      "cell_type": "code",
      "source": [
        "from scipy.stats import ttest_ind\n",
        "for month in range(1,13):\n",
        "  baylis_durations = baylis_monthly_durations_pandas[baylis_monthly_durations_pandas['Month'] == month]['Durations_Baylis'].values[0]\n",
        "  other_durations = other_monthly_durations_pandas[other_monthly_durations_pandas['Month'] == month]['Durations_Other'].values[0]\n",
        "  t_stat, p_val = ttest_ind(baylis_durations, other_durations, equal_var=False)  # Using Welch's t-test\n",
        "\n",
        "  print(f'Month: {month}, T-statistic: {t_stat}, P-value: {p_val}')\n"
      ],
      "metadata": {
        "colab": {
          "base_uri": "https://localhost:8080/"
        },
        "id": "Z8jc7VmijxHo",
        "outputId": "0473c1fb-cd4f-4054-de4e-a91d0f79112f"
      },
      "execution_count": null,
      "outputs": [
        {
          "output_type": "stream",
          "name": "stdout",
          "text": [
            "Month: 1, T-statistic: -10.165251645928988, P-value: 1.6016057794460003e-23\n",
            "Month: 2, T-statistic: -10.270432476698222, P-value: 6.1862243392770346e-24\n",
            "Month: 3, T-statistic: -21.477724339487512, P-value: 4.5849281857983135e-92\n",
            "Month: 4, T-statistic: -24.911824215337262, P-value: 3.745975235693533e-120\n",
            "Month: 5, T-statistic: -15.000383834128451, P-value: 1.1025104589107031e-48\n",
            "Month: 6, T-statistic: -19.36017518006243, P-value: 2.9969920556755436e-78\n",
            "Month: 7, T-statistic: -13.691833188617627, P-value: 1.9712812243143243e-41\n",
            "Month: 8, T-statistic: -15.393231043718451, P-value: 2.723840201820637e-51\n",
            "Month: 9, T-statistic: -18.64836689743181, P-value: 3.3244090713137666e-73\n",
            "Month: 10, T-statistic: -16.393214318974408, P-value: 2.850898952373374e-57\n",
            "Month: 11, T-statistic: -18.247514204991752, P-value: 5.77616448632208e-69\n",
            "Month: 12, T-statistic: -18.323290447350928, P-value: 3.79254239966668e-70\n"
          ]
        }
      ]
    }
  ],
  "metadata": {
    "accelerator": "GPU",
    "colab": {
      "gpuType": "T4",
      "provenance": []
    },
    "kernelspec": {
      "display_name": "Python 3",
      "name": "python3"
    },
    "language_info": {
      "name": "python"
    }
  },
  "nbformat": 4,
  "nbformat_minor": 0
}